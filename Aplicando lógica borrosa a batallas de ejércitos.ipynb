{
 "cells": [
  {
   "cell_type": "markdown",
   "id": "5220a9bd",
   "metadata": {
    "slideshow": {
     "slide_type": "slide"
    }
   },
   "source": [
    "# Aplicando lógica borrosa a batallas de ejércitos"
   ]
  },
  {
   "cell_type": "markdown",
   "id": "cf0c4d8d",
   "metadata": {
    "slideshow": {
     "slide_type": "slide"
    }
   },
   "source": [
    "Imagina un caluroso día de verano, tumbado, tranquilo, mirando al techo sin hacer nada\n",
    "\n",
    "**Y de repente**, llega un momento que te levantas a por un helado\n",
    "\n",
    "- Quizá hacía _\"bastante calor\"_, o tenías _\"un poco de antojo\"_, o simplemente estabas _\"algo aburrido\"_\n",
    "- Los términos _\"calor\"_, _\"antojo\"_ o _\"aburrimiento\"_ no son absolutas\n",
    "  - Cada una está en un rango de valores\n",
    "  - Esto también incluye el resultado de la decisión\n",
    "    - Puede ser desde \"comer algo de helado\" a \"ponerse ciego de helado\"\n",
    "    - Dependerá además de las variables de entrada; no es lo mismo _\"un poco de antojo\"_ que _\"mucho antojo\"_"
   ]
  },
  {
   "cell_type": "markdown",
   "id": "efca1760",
   "metadata": {
    "slideshow": {
     "slide_type": "slide"
    }
   },
   "source": [
    "Claro, esto en nuestro software no lo solemos programar así\n",
    "\n",
    "- Primero, solemos usar valores booleanos de tipo `hot`, `craving` o `bored`\n",
    "- Segundo, solemos formar las reglas de la forma\n",
    "\n",
    "```python\n",
    "if hot and craving and bored:\n",
    "    fulano.get_ice_cream()\n",
    "```\n",
    "\n",
    "Lo malo es que este tipo de códigos es muy \"antinatural\"\n",
    "\n",
    "- El comprtamiento de los agentes que lo usen no será fluido\n",
    "\n",
    "Si queremos hacerlo más complejo, la solución pasa por añadir más condiciones\n",
    "\n",
    "- Y condiciones a esas condiciones\n",
    "  - Con más condiciones dentro de esas condiciones\n",
    "- Vamos, un código más complejo\n",
    "\n",
    "**La lógica borrosa nos puede ayudar a generar comportamiento más fluidos en determinados casos**\n",
    "\n",
    "Vamos a ver cómo funciona en un caso práctico"
   ]
  },
  {
   "cell_type": "markdown",
   "id": "487a728a",
   "metadata": {
    "slideshow": {
     "slide_type": "slide"
    }
   },
   "source": [
    "## Lógica borrosa en el comporamiento de batallones\n",
    "\n",
    "Supongamos que tenemos un juego de batallas, estilo Total War\n",
    "\n",
    "Queremos programar el comportamiento de alto nivel de la IA de los enemigos\n",
    "\n",
    "- Queremos que, en función de las variables `tamaño`, `moral`, `ataque` y `defensa`, decida si `huir`, `mantener_posición` o `atacar`\n",
    "  - **Tamaño**: Mide la diferencia entre el número de unidades aliadas frente enemigas (máx. 100 uds por batallón)\n",
    "  - **Moral**: La moral actual del ejército, de 0 (fatal) a 100 (subidón)\n",
    "  - **Fuerza**: De 1 (triste) a 100 (Dr. Manhattan)\n",
    "  - **Defensa**: De 1 (muñón) a 100 (Niku)\n",
    "  - **Acción**: de -1 (huir) a +1 (atacar)\n",
    "\n",
    "Vamos a usar la librería [skfuzzy](https://scikit-fuzzy.github.io/scikit-fuzzy/) para crear un controlador para esta IA\n",
    "\n",
    "Comenzaremos por importar las librerías que usaremos a lo largo de la presentación"
   ]
  },
  {
   "cell_type": "code",
   "execution_count": null,
   "id": "36751bf0",
   "metadata": {
    "slideshow": {
     "slide_type": "fragment"
    }
   },
   "outputs": [],
   "source": [
    "from ipywidgets import interactive, widgets\n",
    "import matplotlib.pyplot as plt\n",
    "import numpy as np\n",
    "import skfuzzy.control as ctrl\n",
    "from skfuzzy.control.visualization import FuzzyVariableVisualizer\n",
    "\n",
    "import warnings\n",
    "warnings.filterwarnings('ignore')\n",
    "\n",
    "%matplotlib inline"
   ]
  },
  {
   "cell_type": "markdown",
   "id": "d40dff83",
   "metadata": {
    "slideshow": {
     "slide_type": "slide"
    }
   },
   "source": [
    "## Procedimiento general\n",
    "\n",
    "El esquema general de un controlador borroso es el siguiente\n",
    "\n",
    "![Esquema de controlador borroso](fuzzy-controller.png \"Esquema de controlador borroso\")\n",
    "\n",
    "Por tanto, en cada instante de tiempo vamos a realizar el siguiente proceso:\n",
    "\n",
    "1. Introducir las variables de entrada en el controlador y convertirlas en valores borrosos\n",
    "2. Realizar la inferencia borrosa\n",
    "3. Defuzzificar para obtener un valor exacto de nuestra variable de salida\n",
    "\n",
    "Vamos descomponer nuestro controlador en estos tres pasos"
   ]
  },
  {
   "cell_type": "markdown",
   "id": "fa09d06d",
   "metadata": {
    "slideshow": {
     "slide_type": "slide"
    }
   },
   "source": [
    "### Fuzzificación\n",
    "\n",
    "En esta fase tomaremos los valores de entrada y los convertiremos en valores borrosos\n",
    "\n",
    "- Se definen a través de las funciones de pertenencia (indican el grado de pertenencia de un valor al conjunto borroso que caracterizan)"
   ]
  },
  {
   "cell_type": "code",
   "execution_count": null,
   "id": "0e57a065",
   "metadata": {
    "slideshow": {
     "slide_type": "fragment"
    }
   },
   "outputs": [],
   "source": [
    "size = ctrl.Antecedent(np.arange(-100, 100, 1), 'size')\n",
    "morale = ctrl.Antecedent(np.arange(0, 100, 1), 'morale')\n",
    "attack = ctrl.Antecedent(np.arange(0, 100, 1), 'attack')\n",
    "defense = ctrl.Antecedent(np.arange(0, 100, 1), 'defense')\n",
    "flee_prob = ctrl.Consequent(np.arange(0, 1, 0.01), 'flee_prob')\n",
    "\n",
    "names = 'low', 'average', 'high'\n",
    "size.automf(names=names)\n",
    "morale.automf(names=[names[0], names[-1]])\n",
    "attack.automf(names=names)\n",
    "defense.automf(names=names)\n",
    "flee_prob.automf(names=[names[0], names[-1]])"
   ]
  },
  {
   "cell_type": "markdown",
   "id": "0b55d3a3",
   "metadata": {
    "slideshow": {
     "slide_type": "slide"
    }
   },
   "source": [
    "Podríamos crear cada una de las variables de pertenencia como, por ejemplo:\n",
    "\n",
    "```python\n",
    "size['low'] = fuzz.trimf(size.universe, [-100, -100, 0])\n",
    "size['average'] = fuzz.trimf(size.universe, [-100, 0, 100])\n",
    "size['high'] = fuzz.trimf(size.universe, [0, 100, 100])\n",
    "```\n",
    "\n",
    "Pero para mayor sencillez los hemos calculado automáticamente"
   ]
  },
  {
   "cell_type": "markdown",
   "id": "09e65ded",
   "metadata": {
    "slideshow": {
     "slide_type": "fragment"
    }
   },
   "source": [
    "Veamos qué forma tiene, por ejemplo, `size`:"
   ]
  },
  {
   "cell_type": "code",
   "execution_count": null,
   "id": "3c8c8502",
   "metadata": {
    "slideshow": {
     "slide_type": "fragment"
    }
   },
   "outputs": [],
   "source": [
    "a = size.view()"
   ]
  },
  {
   "cell_type": "markdown",
   "id": "66b827fb",
   "metadata": {
    "slideshow": {
     "slide_type": "slide"
    }
   },
   "source": [
    "### Inferencia\n",
    "\n",
    "El bloque de inferencia se nutre de las reglas lógicas y el proceso de inferencia\n",
    "\n",
    "- Lo bueno es que la librería ya nos implementa todo el proceso de inferencia\n",
    "  - Y además define valores por defecto así que, en un principio, no nos tenemos que preocupar más que de las reglas\n",
    "- Sólo nos tenemos que preocupar de las reglas y de la sintáxis (`|` para \"o\", `&` para \"y\", y `~` para \"no\")"
   ]
  },
  {
   "cell_type": "code",
   "execution_count": null,
   "id": "51f9a753",
   "metadata": {
    "slideshow": {
     "slide_type": "fragment"
    }
   },
   "outputs": [],
   "source": [
    "rules = [\n",
    "    ctrl.Rule(size['low'], flee_prob['high']),\n",
    "    ctrl.Rule(~size['low'], flee_prob['low']),\n",
    "    ctrl.Rule(morale['low'], flee_prob['high']),\n",
    "    ctrl.Rule(morale['high'], flee_prob['low']),\n",
    "    ctrl.Rule(attack['high'], flee_prob['low']),\n",
    "    ctrl.Rule(defense['high'], flee_prob['low']),\n",
    "    ctrl.Rule(attack['average'] & defense['average'], flee_prob['low']),\n",
    "    ctrl.Rule(attack['low'] | defense['low'], flee_prob['high']),\n",
    "]"
   ]
  },
  {
   "cell_type": "markdown",
   "id": "aa4da2f4",
   "metadata": {
    "slideshow": {
     "slide_type": "fragment"
    }
   },
   "source": [
    "Y ya está, la verdad es que definir las reglas no es difícil\n",
    "- Lo difícil es hacerlo de manera que reflejen realmente el comportamiento que queremos"
   ]
  },
  {
   "cell_type": "markdown",
   "id": "04a0cb7b",
   "metadata": {
    "slideshow": {
     "slide_type": "slide"
    }
   },
   "source": [
    "### Defuzzificación\n",
    "\n",
    "En este punto, la salida del bloque de inferencia es una pertenencia a un conjunto borroso\n",
    "\n",
    "Pero, ¿os acordáis cuando decíamos que el controlador incluía muchos comportamientos por defecto?\n",
    "\n",
    "- Pues la defuzzificación es otro más de ellos\n",
    "- Vamos, que no hace falta tocarlo a no ser que queramos un ajuste fino\n",
    "  - Cosa que, ahora mismo, no queremos"
   ]
  },
  {
   "cell_type": "markdown",
   "id": "9d2a5a32",
   "metadata": {
    "slideshow": {
     "slide_type": "slide"
    }
   },
   "source": [
    "## Nuestro controlador funcionando\n",
    "\n",
    "Ahora, vamos a construir nuestro controlador, que es tansencillo como indicarle las reglas\n",
    "\n",
    "- Como decíamos, mucho comportamiento está implementado por defecto\n",
    "- En las reglas, además, está toda la información acerca de variables de entrada, de salida, de conjuntos borrosos, ..."
   ]
  },
  {
   "cell_type": "code",
   "execution_count": null,
   "id": "6abf36ad",
   "metadata": {
    "slideshow": {
     "slide_type": "fragment"
    }
   },
   "outputs": [],
   "source": [
    "batallion_ctrl = ctrl.ControlSystem(rules)"
   ]
  },
  {
   "cell_type": "markdown",
   "id": "b1db3f9e",
   "metadata": {
    "slideshow": {
     "slide_type": "fragment"
    }
   },
   "source": [
    "Y con nuestro controlador creado, vamos a simular valores de entrada para ver cómo se comportaría"
   ]
  },
  {
   "cell_type": "code",
   "execution_count": null,
   "id": "65e40994",
   "metadata": {
    "slideshow": {
     "slide_type": "fragment"
    }
   },
   "outputs": [],
   "source": [
    "batallion_sim = ctrl.ControlSystemSimulation(batallion_ctrl)"
   ]
  },
  {
   "cell_type": "markdown",
   "id": "8160407b",
   "metadata": {
    "slideshow": {
     "slide_type": "slide"
    }
   },
   "source": [
    "Estupendo; veamos cómo se comporta para un valor concreto de entradas y salidas"
   ]
  },
  {
   "cell_type": "code",
   "execution_count": null,
   "id": "c3ac5c4d",
   "metadata": {},
   "outputs": [],
   "source": [
    "batallion_sim.input['size'] = 20\n",
    "batallion_sim.input['morale'] = 43\n",
    "batallion_sim.input['attack'] = 100\n",
    "batallion_sim.input['defense'] = 9\n",
    "batallion_sim.compute()\n",
    "print(f\"Flee probability: {batallion_sim.output['flee_prob']}\")"
   ]
  },
  {
   "cell_type": "markdown",
   "id": "99f898fd",
   "metadata": {
    "slideshow": {
     "slide_type": "slide"
    }
   },
   "source": [
    "Veamos cómo han sido las activaciones para estas reglas"
   ]
  },
  {
   "cell_type": "code",
   "execution_count": null,
   "id": "a33222b3",
   "metadata": {
    "slideshow": {
     "slide_type": "fragment"
    }
   },
   "outputs": [],
   "source": [
    "flee_prob.view(sim=batallion_sim)"
   ]
  },
  {
   "cell_type": "code",
   "execution_count": null,
   "id": "b6ce8cc4",
   "metadata": {
    "slideshow": {
     "slide_type": "slide"
    }
   },
   "outputs": [],
   "source": [
    "%matplotlib notebook\n",
    "def f():\n",
    "    simulator = ctrl.ControlSystemSimulation(batallion_ctrl)\n",
    "    visualizer = FuzzyVariableVisualizer(flee_prob)\n",
    "    fig, ax = visualizer.view(sim=simulator)\n",
    "    \n",
    "    def f(size, morale, attack, defense):\n",
    "        nonlocal fig\n",
    "        nonlocal ax\n",
    "        simulator.inputs({'size': size, 'morale': morale, 'attack': attack, 'defense': defense})\n",
    "        simulator.compute()\n",
    "        ax.clear()\n",
    "        fig, ax = visualizer.view(sim=simulator)\n",
    "        ax.set_title(f\"{simulator.output['flee_prob']*100:.03}%\")\n",
    "        fig.canvas.draw()\n",
    "    return f\n",
    "\n",
    "size_slider = widgets.IntSlider(min=-100, max=100, step=1, value=0)\n",
    "morale_slider = widgets.IntSlider(min=0, max=100, step=1, value=50)\n",
    "attack_slider = widgets.IntSlider(min=0, max=100, step=1, value=50)\n",
    "defense_slider = widgets.IntSlider(min=0, max=100, step=1, value=50)\n",
    "interactive(f(), size=size_slider, morale=morale_slider, attack=attack_slider, defense=defense_slider)"
   ]
  },
  {
   "cell_type": "markdown",
   "id": "fb2eb9cf",
   "metadata": {
    "slideshow": {
     "slide_type": "slide"
    }
   },
   "source": [
    "## Conclusiones\n",
    "\n",
    "Si obviamos todas las transparencias, texto, explicaciones y demás...\n",
    "\n",
    "- **Hemos programado un controlador borroso en prácticamente 20 líneas de código**\n",
    "- Además, con un comportamiento fluido y comprensible\n",
    "  - Aunque no esté fino del todo, está expresado en sólo 8 reglas (líneas de código)\n",
    "\n",
    "Por tanto, es una herramienta potente, sencilla y útil\n",
    "\n",
    "- ¡Así que ya no tenéis excusa para no usar controladores borrosos!"
   ]
  },
  {
   "cell_type": "markdown",
   "id": "0a1d21e6",
   "metadata": {
    "slideshow": {
     "slide_type": "slide"
    }
   },
   "source": [
    "# ¡Gracias!"
   ]
  }
 ],
 "metadata": {
  "celltoolbar": "Slideshow",
  "kernelspec": {
   "display_name": "Python 3 (ipykernel)",
   "language": "python",
   "name": "python3"
  },
  "language_info": {
   "codemirror_mode": {
    "name": "ipython",
    "version": 3
   },
   "file_extension": ".py",
   "mimetype": "text/x-python",
   "name": "python",
   "nbconvert_exporter": "python",
   "pygments_lexer": "ipython3",
   "version": "3.8.10"
  }
 },
 "nbformat": 4,
 "nbformat_minor": 5
}
